{
 "cells": [
  {
   "cell_type": "code",
   "execution_count": 1,
   "id": "644a5535",
   "metadata": {},
   "outputs": [],
   "source": [
    "import pandas as pd\n",
    "import numpy as np\n",
    "import seaborn as sns\n",
    "import datetime\n",
    "import matplotlib.pyplot as plt"
   ]
  },
  {
   "cell_type": "code",
   "execution_count": 2,
   "id": "573690d6",
   "metadata": {
    "scrolled": true
   },
   "outputs": [
    {
     "data": {
      "text/html": [
       "<div>\n",
       "<style scoped>\n",
       "    .dataframe tbody tr th:only-of-type {\n",
       "        vertical-align: middle;\n",
       "    }\n",
       "\n",
       "    .dataframe tbody tr th {\n",
       "        vertical-align: top;\n",
       "    }\n",
       "\n",
       "    .dataframe thead th {\n",
       "        text-align: right;\n",
       "    }\n",
       "</style>\n",
       "<table border=\"1\" class=\"dataframe\">\n",
       "  <thead>\n",
       "    <tr style=\"text-align: right;\">\n",
       "      <th></th>\n",
       "      <th>open</th>\n",
       "      <th>high</th>\n",
       "      <th>low</th>\n",
       "      <th>close</th>\n",
       "      <th>volume</th>\n",
       "    </tr>\n",
       "    <tr>\n",
       "      <th>date</th>\n",
       "      <th></th>\n",
       "      <th></th>\n",
       "      <th></th>\n",
       "      <th></th>\n",
       "      <th></th>\n",
       "    </tr>\n",
       "  </thead>\n",
       "  <tbody>\n",
       "    <tr>\n",
       "      <th>2016-01-04</th>\n",
       "      <td>41.29</td>\n",
       "      <td>41.3501</td>\n",
       "      <td>40.30</td>\n",
       "      <td>40.91</td>\n",
       "      <td>12037151</td>\n",
       "    </tr>\n",
       "    <tr>\n",
       "      <th>2016-01-05</th>\n",
       "      <td>41.18</td>\n",
       "      <td>41.4900</td>\n",
       "      <td>39.95</td>\n",
       "      <td>40.52</td>\n",
       "      <td>10514164</td>\n",
       "    </tr>\n",
       "    <tr>\n",
       "      <th>2016-01-06</th>\n",
       "      <td>40.05</td>\n",
       "      <td>41.7000</td>\n",
       "      <td>40.00</td>\n",
       "      <td>41.23</td>\n",
       "      <td>12393780</td>\n",
       "    </tr>\n",
       "    <tr>\n",
       "      <th>2016-01-07</th>\n",
       "      <td>40.97</td>\n",
       "      <td>41.5200</td>\n",
       "      <td>39.68</td>\n",
       "      <td>40.45</td>\n",
       "      <td>11312876</td>\n",
       "    </tr>\n",
       "    <tr>\n",
       "      <th>2016-01-08</th>\n",
       "      <td>40.94</td>\n",
       "      <td>41.3600</td>\n",
       "      <td>40.26</td>\n",
       "      <td>40.37</td>\n",
       "      <td>8853096</td>\n",
       "    </tr>\n",
       "  </tbody>\n",
       "</table>\n",
       "</div>"
      ],
      "text/plain": [
       "             open     high    low  close    volume\n",
       "date                                              \n",
       "2016-01-04  41.29  41.3501  40.30  40.91  12037151\n",
       "2016-01-05  41.18  41.4900  39.95  40.52  10514164\n",
       "2016-01-06  40.05  41.7000  40.00  41.23  12393780\n",
       "2016-01-07  40.97  41.5200  39.68  40.45  11312876\n",
       "2016-01-08  40.94  41.3600  40.26  40.37   8853096"
      ]
     },
     "execution_count": 2,
     "metadata": {},
     "output_type": "execute_result"
    }
   ],
   "source": [
    "df= pd.read_csv(\"all_stocks_3yr.csv\", parse_dates=[\"date\"],index_col=\"date\" )\n",
    "df.head()\n",
    "\n",
    "#index_col = \"Column name \" can make colmn as index \n",
    "#parse_dates=[\"date\"] we can tell notebook that this column is date function."
   ]
  },
  {
   "cell_type": "code",
   "execution_count": 4,
   "id": "3401397f",
   "metadata": {},
   "outputs": [
    {
     "data": {
      "text/plain": [
       "DatetimeIndex(['2016-01-04', '2016-01-05', '2016-01-06', '2016-01-07',\n",
       "               '2016-01-08', '2016-01-11', '2016-01-12', '2016-01-13',\n",
       "               '2016-01-14', '2016-01-15',\n",
       "               ...\n",
       "               '2018-01-25', '2018-01-26', '2018-01-29', '2018-01-30',\n",
       "               '2018-01-31', '2018-02-01', '2018-02-02', '2018-02-05',\n",
       "               '2018-02-06', '2018-02-07'],\n",
       "              dtype='datetime64[ns]', name='date', length=264486, freq=None)"
      ]
     },
     "execution_count": 4,
     "metadata": {},
     "output_type": "execute_result"
    }
   ],
   "source": [
    "df.index"
   ]
  },
  {
   "cell_type": "code",
   "execution_count": 5,
   "id": "26281eef",
   "metadata": {
    "scrolled": true
   },
   "outputs": [
    {
     "data": {
      "text/html": [
       "<div>\n",
       "<style scoped>\n",
       "    .dataframe tbody tr th:only-of-type {\n",
       "        vertical-align: middle;\n",
       "    }\n",
       "\n",
       "    .dataframe tbody tr th {\n",
       "        vertical-align: top;\n",
       "    }\n",
       "\n",
       "    .dataframe thead th {\n",
       "        text-align: right;\n",
       "    }\n",
       "</style>\n",
       "<table border=\"1\" class=\"dataframe\">\n",
       "  <thead>\n",
       "    <tr style=\"text-align: right;\">\n",
       "      <th></th>\n",
       "      <th>open</th>\n",
       "      <th>high</th>\n",
       "      <th>low</th>\n",
       "      <th>close</th>\n",
       "      <th>volume</th>\n",
       "    </tr>\n",
       "    <tr>\n",
       "      <th>date</th>\n",
       "      <th></th>\n",
       "      <th></th>\n",
       "      <th></th>\n",
       "      <th></th>\n",
       "      <th></th>\n",
       "    </tr>\n",
       "  </thead>\n",
       "  <tbody>\n",
       "    <tr>\n",
       "      <th>2017-01-03</th>\n",
       "      <td>47.28</td>\n",
       "      <td>47.340</td>\n",
       "      <td>46.135</td>\n",
       "      <td>46.30</td>\n",
       "      <td>6737752</td>\n",
       "    </tr>\n",
       "    <tr>\n",
       "      <th>2017-01-04</th>\n",
       "      <td>46.63</td>\n",
       "      <td>47.435</td>\n",
       "      <td>46.350</td>\n",
       "      <td>46.70</td>\n",
       "      <td>5859604</td>\n",
       "    </tr>\n",
       "    <tr>\n",
       "      <th>2017-01-05</th>\n",
       "      <td>46.52</td>\n",
       "      <td>46.930</td>\n",
       "      <td>45.610</td>\n",
       "      <td>45.89</td>\n",
       "      <td>6825316</td>\n",
       "    </tr>\n",
       "    <tr>\n",
       "      <th>2017-01-06</th>\n",
       "      <td>45.85</td>\n",
       "      <td>46.720</td>\n",
       "      <td>45.470</td>\n",
       "      <td>46.21</td>\n",
       "      <td>7260197</td>\n",
       "    </tr>\n",
       "    <tr>\n",
       "      <th>2017-01-09</th>\n",
       "      <td>46.01</td>\n",
       "      <td>47.340</td>\n",
       "      <td>45.780</td>\n",
       "      <td>47.08</td>\n",
       "      <td>4739142</td>\n",
       "    </tr>\n",
       "    <tr>\n",
       "      <th>...</th>\n",
       "      <td>...</td>\n",
       "      <td>...</td>\n",
       "      <td>...</td>\n",
       "      <td>...</td>\n",
       "      <td>...</td>\n",
       "    </tr>\n",
       "    <tr>\n",
       "      <th>2017-01-25</th>\n",
       "      <td>54.10</td>\n",
       "      <td>54.290</td>\n",
       "      <td>53.730</td>\n",
       "      <td>54.00</td>\n",
       "      <td>5709082</td>\n",
       "    </tr>\n",
       "    <tr>\n",
       "      <th>2017-01-26</th>\n",
       "      <td>53.63</td>\n",
       "      <td>54.440</td>\n",
       "      <td>53.590</td>\n",
       "      <td>53.84</td>\n",
       "      <td>2272268</td>\n",
       "    </tr>\n",
       "    <tr>\n",
       "      <th>2017-01-27</th>\n",
       "      <td>54.09</td>\n",
       "      <td>54.720</td>\n",
       "      <td>53.970</td>\n",
       "      <td>54.65</td>\n",
       "      <td>2326838</td>\n",
       "    </tr>\n",
       "    <tr>\n",
       "      <th>2017-01-30</th>\n",
       "      <td>54.39</td>\n",
       "      <td>54.510</td>\n",
       "      <td>53.870</td>\n",
       "      <td>54.27</td>\n",
       "      <td>2317125</td>\n",
       "    </tr>\n",
       "    <tr>\n",
       "      <th>2017-01-31</th>\n",
       "      <td>54.01</td>\n",
       "      <td>54.970</td>\n",
       "      <td>53.800</td>\n",
       "      <td>54.94</td>\n",
       "      <td>3616460</td>\n",
       "    </tr>\n",
       "  </tbody>\n",
       "</table>\n",
       "<p>9999 rows × 5 columns</p>\n",
       "</div>"
      ],
      "text/plain": [
       "             open    high     low  close   volume\n",
       "date                                             \n",
       "2017-01-03  47.28  47.340  46.135  46.30  6737752\n",
       "2017-01-04  46.63  47.435  46.350  46.70  5859604\n",
       "2017-01-05  46.52  46.930  45.610  45.89  6825316\n",
       "2017-01-06  45.85  46.720  45.470  46.21  7260197\n",
       "2017-01-09  46.01  47.340  45.780  47.08  4739142\n",
       "...           ...     ...     ...    ...      ...\n",
       "2017-01-25  54.10  54.290  53.730  54.00  5709082\n",
       "2017-01-26  53.63  54.440  53.590  53.84  2272268\n",
       "2017-01-27  54.09  54.720  53.970  54.65  2326838\n",
       "2017-01-30  54.39  54.510  53.870  54.27  2317125\n",
       "2017-01-31  54.01  54.970  53.800  54.94  3616460\n",
       "\n",
       "[9999 rows x 5 columns]"
      ]
     },
     "execution_count": 5,
     "metadata": {},
     "output_type": "execute_result"
    }
   ],
   "source": [
    " df.loc[\"2017-01\"] #get specific date"
   ]
  },
  {
   "cell_type": "code",
   "execution_count": 13,
   "id": "cd0e6650",
   "metadata": {},
   "outputs": [
    {
     "data": {
      "text/html": [
       "<div>\n",
       "<style scoped>\n",
       "    .dataframe tbody tr th:only-of-type {\n",
       "        vertical-align: middle;\n",
       "    }\n",
       "\n",
       "    .dataframe tbody tr th {\n",
       "        vertical-align: top;\n",
       "    }\n",
       "\n",
       "    .dataframe thead th {\n",
       "        text-align: right;\n",
       "    }\n",
       "</style>\n",
       "<table border=\"1\" class=\"dataframe\">\n",
       "  <thead>\n",
       "    <tr style=\"text-align: right;\">\n",
       "      <th></th>\n",
       "      <th>open</th>\n",
       "      <th>high</th>\n",
       "      <th>low</th>\n",
       "      <th>close</th>\n",
       "      <th>volume</th>\n",
       "    </tr>\n",
       "    <tr>\n",
       "      <th>date</th>\n",
       "      <th></th>\n",
       "      <th></th>\n",
       "      <th></th>\n",
       "      <th></th>\n",
       "      <th></th>\n",
       "    </tr>\n",
       "  </thead>\n",
       "  <tbody>\n",
       "    <tr>\n",
       "      <th>2016-03-03</th>\n",
       "      <td>41.52</td>\n",
       "      <td>42.24</td>\n",
       "      <td>41.230</td>\n",
       "      <td>41.88</td>\n",
       "      <td>8812844</td>\n",
       "    </tr>\n",
       "    <tr>\n",
       "      <th>2016-03-04</th>\n",
       "      <td>42.17</td>\n",
       "      <td>42.17</td>\n",
       "      <td>41.420</td>\n",
       "      <td>41.63</td>\n",
       "      <td>9474058</td>\n",
       "    </tr>\n",
       "    <tr>\n",
       "      <th>2016-03-07</th>\n",
       "      <td>41.31</td>\n",
       "      <td>42.23</td>\n",
       "      <td>40.900</td>\n",
       "      <td>42.13</td>\n",
       "      <td>6961033</td>\n",
       "    </tr>\n",
       "    <tr>\n",
       "      <th>2016-03-08</th>\n",
       "      <td>41.30</td>\n",
       "      <td>41.41</td>\n",
       "      <td>40.050</td>\n",
       "      <td>40.77</td>\n",
       "      <td>8418307</td>\n",
       "    </tr>\n",
       "    <tr>\n",
       "      <th>2016-03-09</th>\n",
       "      <td>40.74</td>\n",
       "      <td>41.72</td>\n",
       "      <td>40.520</td>\n",
       "      <td>41.65</td>\n",
       "      <td>8546320</td>\n",
       "    </tr>\n",
       "    <tr>\n",
       "      <th>...</th>\n",
       "      <td>...</td>\n",
       "      <td>...</td>\n",
       "      <td>...</td>\n",
       "      <td>...</td>\n",
       "      <td>...</td>\n",
       "    </tr>\n",
       "    <tr>\n",
       "      <th>2017-03-23</th>\n",
       "      <td>53.89</td>\n",
       "      <td>54.19</td>\n",
       "      <td>53.595</td>\n",
       "      <td>53.80</td>\n",
       "      <td>3015617</td>\n",
       "    </tr>\n",
       "    <tr>\n",
       "      <th>2017-03-24</th>\n",
       "      <td>53.85</td>\n",
       "      <td>54.21</td>\n",
       "      <td>53.590</td>\n",
       "      <td>53.85</td>\n",
       "      <td>2384029</td>\n",
       "    </tr>\n",
       "    <tr>\n",
       "      <th>2017-03-27</th>\n",
       "      <td>53.49</td>\n",
       "      <td>54.17</td>\n",
       "      <td>53.400</td>\n",
       "      <td>53.97</td>\n",
       "      <td>3168491</td>\n",
       "    </tr>\n",
       "    <tr>\n",
       "      <th>2017-03-28</th>\n",
       "      <td>53.81</td>\n",
       "      <td>54.31</td>\n",
       "      <td>53.690</td>\n",
       "      <td>54.16</td>\n",
       "      <td>2328150</td>\n",
       "    </tr>\n",
       "    <tr>\n",
       "      <th>2017-03-29</th>\n",
       "      <td>54.04</td>\n",
       "      <td>54.27</td>\n",
       "      <td>53.720</td>\n",
       "      <td>53.82</td>\n",
       "      <td>2269855</td>\n",
       "    </tr>\n",
       "  </tbody>\n",
       "</table>\n",
       "<p>134988 rows × 5 columns</p>\n",
       "</div>"
      ],
      "text/plain": [
       "             open   high     low  close   volume\n",
       "date                                            \n",
       "2016-03-03  41.52  42.24  41.230  41.88  8812844\n",
       "2016-03-04  42.17  42.17  41.420  41.63  9474058\n",
       "2016-03-07  41.31  42.23  40.900  42.13  6961033\n",
       "2016-03-08  41.30  41.41  40.050  40.77  8418307\n",
       "2016-03-09  40.74  41.72  40.520  41.65  8546320\n",
       "...           ...    ...     ...    ...      ...\n",
       "2017-03-23  53.89  54.19  53.595  53.80  3015617\n",
       "2017-03-24  53.85  54.21  53.590  53.85  2384029\n",
       "2017-03-27  53.49  54.17  53.400  53.97  3168491\n",
       "2017-03-28  53.81  54.31  53.690  54.16  2328150\n",
       "2017-03-29  54.04  54.27  53.720  53.82  2269855\n",
       "\n",
       "[134988 rows x 5 columns]"
      ]
     },
     "execution_count": 13,
     "metadata": {},
     "output_type": "execute_result"
    }
   ],
   "source": [
    "start_date = '2016-03-2'\n",
    "end_date = '2017-03-29'\n",
    "\n",
    "df.index = pd.to_datetime(df.index)\n",
    "df1= df[(df.index > start_date) & (df.index <= end_date)]\n",
    "df1"
   ]
  },
  {
   "cell_type": "code",
   "execution_count": 16,
   "id": "aaf0916d",
   "metadata": {},
   "outputs": [
    {
     "data": {
      "text/html": [
       "<div>\n",
       "<style scoped>\n",
       "    .dataframe tbody tr th:only-of-type {\n",
       "        vertical-align: middle;\n",
       "    }\n",
       "\n",
       "    .dataframe tbody tr th {\n",
       "        vertical-align: top;\n",
       "    }\n",
       "\n",
       "    .dataframe thead th {\n",
       "        text-align: right;\n",
       "    }\n",
       "</style>\n",
       "<table border=\"1\" class=\"dataframe\">\n",
       "  <thead>\n",
       "    <tr style=\"text-align: right;\">\n",
       "      <th></th>\n",
       "      <th>open</th>\n",
       "      <th>high</th>\n",
       "      <th>low</th>\n",
       "      <th>close</th>\n",
       "      <th>volume</th>\n",
       "    </tr>\n",
       "    <tr>\n",
       "      <th>date</th>\n",
       "      <th></th>\n",
       "      <th></th>\n",
       "      <th></th>\n",
       "      <th></th>\n",
       "      <th></th>\n",
       "    </tr>\n",
       "  </thead>\n",
       "  <tbody>\n",
       "    <tr>\n",
       "      <th>2016-01-04</th>\n",
       "      <td>41.29</td>\n",
       "      <td>41.3501</td>\n",
       "      <td>40.30</td>\n",
       "      <td>40.91</td>\n",
       "      <td>12037151</td>\n",
       "    </tr>\n",
       "    <tr>\n",
       "      <th>2016-01-05</th>\n",
       "      <td>41.18</td>\n",
       "      <td>41.4900</td>\n",
       "      <td>39.95</td>\n",
       "      <td>40.52</td>\n",
       "      <td>10514164</td>\n",
       "    </tr>\n",
       "    <tr>\n",
       "      <th>2016-01-06</th>\n",
       "      <td>40.05</td>\n",
       "      <td>41.7000</td>\n",
       "      <td>40.00</td>\n",
       "      <td>41.23</td>\n",
       "      <td>12393780</td>\n",
       "    </tr>\n",
       "    <tr>\n",
       "      <th>2016-01-07</th>\n",
       "      <td>40.97</td>\n",
       "      <td>41.5200</td>\n",
       "      <td>39.68</td>\n",
       "      <td>40.45</td>\n",
       "      <td>11312876</td>\n",
       "    </tr>\n",
       "    <tr>\n",
       "      <th>2016-01-08</th>\n",
       "      <td>40.94</td>\n",
       "      <td>41.3600</td>\n",
       "      <td>40.26</td>\n",
       "      <td>40.37</td>\n",
       "      <td>8853096</td>\n",
       "    </tr>\n",
       "  </tbody>\n",
       "</table>\n",
       "</div>"
      ],
      "text/plain": [
       "             open     high    low  close    volume\n",
       "date                                              \n",
       "2016-01-04  41.29  41.3501  40.30  40.91  12037151\n",
       "2016-01-05  41.18  41.4900  39.95  40.52  10514164\n",
       "2016-01-06  40.05  41.7000  40.00  41.23  12393780\n",
       "2016-01-07  40.97  41.5200  39.68  40.45  11312876\n",
       "2016-01-08  40.94  41.3600  40.26  40.37   8853096"
      ]
     },
     "execution_count": 16,
     "metadata": {},
     "output_type": "execute_result"
    }
   ],
   "source": [
    "df.head()"
   ]
  },
  {
   "cell_type": "code",
   "execution_count": 7,
   "id": "9ec5a8e6",
   "metadata": {},
   "outputs": [
    {
     "data": {
      "text/plain": [
       "<Axes: xlabel='date'>"
      ]
     },
     "execution_count": 7,
     "metadata": {},
     "output_type": "execute_result"
    },
    {
     "data": {
      "image/png": "[encoded data removed]",
      "text/plain": [
       "<Figure size 640x480 with 1 Axes>"
      ]
     },
     "metadata": {},
     "output_type": "display_data"
    }
   ],
   "source": [
    "df.close.plot()"
   ]
  },
  {
   "cell_type": "code",
   "execution_count": 15,
   "id": "d4883a6d",
   "metadata": {},
   "outputs": [
    {
     "data": {
      "text/plain": [
       "date\n",
       "2016-01-31     77.898386\n",
       "2016-02-29     76.983138\n",
       "2016-03-31     82.368804\n",
       "2016-04-30     84.534876\n",
       "2016-05-31     84.346934\n",
       "2016-06-30     85.135708\n",
       "2016-07-31     87.679289\n",
       "2016-08-31     89.098273\n",
       "2016-09-30     88.128683\n",
       "2016-10-31     87.166187\n",
       "2016-11-30     87.883961\n",
       "2016-12-31     90.525782\n",
       "2017-01-31     91.603679\n",
       "2017-02-28     93.918042\n",
       "2017-03-31     95.256957\n",
       "2017-04-30     95.391409\n",
       "2017-05-31     97.419830\n",
       "2017-06-30     99.211692\n",
       "2017-07-31     99.737220\n",
       "2017-08-31     98.886966\n",
       "2017-09-30    100.133291\n",
       "2017-10-31    102.908070\n",
       "2017-11-30    104.014336\n",
       "2017-12-31    106.488189\n",
       "2018-01-31    111.778353\n",
       "2018-02-28    109.226602\n",
       "Freq: M, Name: close, dtype: float64"
      ]
     },
     "execution_count": 15,
     "metadata": {},
     "output_type": "execute_result"
    }
   ],
   "source": [
    "df.close.resample(\"M\").mean()\n",
    "\n",
    "#month wise mean of column \"close\"\n",
    "#we can check with weekly and yearly too"
   ]
  },
  {
   "cell_type": "code",
   "execution_count": 9,
   "id": "16cbe781",
   "metadata": {},
   "outputs": [
    {
     "data": {
      "text/plain": [
       "<Axes: xlabel='date'>"
      ]
     },
     "execution_count": 9,
     "metadata": {},
     "output_type": "execute_result"
    },
    {
     "data": {
      "image/png": "[encoded data removed]",
      "text/plain": [
       "<Figure size 640x480 with 1 Axes>"
      ]
     },
     "metadata": {},
     "output_type": "display_data"
    }
   ],
   "source": [
    "%matplotlib inline \n",
    "df.close.resample(\"M\").mean().plot()"
   ]
  },
  {
   "cell_type": "code",
   "execution_count": 10,
   "id": "72fe1328",
   "metadata": {},
   "outputs": [
    {
     "data": {
      "text/plain": [
       "<Axes: xlabel='date'>"
      ]
     },
     "execution_count": 10,
     "metadata": {},
     "output_type": "execute_result"
    },
    {
     "data": {
      "image/png": "[encoded data removed]",
      "text/plain": [
       "<Figure size 640x480 with 1 Axes>"
      ]
     },
     "metadata": {},
     "output_type": "display_data"
    }
   ],
   "source": [
    "%matplotlib inline \n",
    "df.close.resample(\"D\").mean().plot()"
   ]
  },
  {
   "cell_type": "code",
   "execution_count": 11,
   "id": "99ec236f",
   "metadata": {},
   "outputs": [
    {
     "data": {
      "text/plain": [
       "<Axes: xlabel='date'>"
      ]
     },
     "execution_count": 11,
     "metadata": {},
     "output_type": "execute_result"
    },
    {
     "data": {
      "image/png": "[encoded data removed]",
      "text/plain": [
       "<Figure size 640x480 with 1 Axes>"
      ]
     },
     "metadata": {},
     "output_type": "display_data"
    }
   ],
   "source": [
    "%matplotlib inline \n",
    "df.close.resample(\"Q\").mean().plot()"
   ]
  },
  {
   "cell_type": "code",
   "execution_count": 12,
   "id": "6c72687a",
   "metadata": {},
   "outputs": [
    {
     "data": {
      "text/plain": [
       "<Axes: xlabel='date'>"
      ]
     },
     "execution_count": 12,
     "metadata": {},
     "output_type": "execute_result"
    },
    {
     "data": {
      "image/png": "[encoded data removed]",
      "text/plain": [
       "<Figure size 640x480 with 1 Axes>"
      ]
     },
     "metadata": {},
     "output_type": "display_data"
    }
   ],
   "source": [
    "%matplotlib inline \n",
    "df.close.resample(\"Q\").mean().plot(kind=\"bar\") "
   ]
  },
  {
   "cell_type": "code",
   "execution_count": null,
   "id": "6467a2bd",
   "metadata": {},
   "outputs": [],
   "source": []
  }
 ],
 "metadata": {
  "kernelspec": {
   "display_name": "Python 3 (ipykernel)",
   "language": "python",
   "name": "python3"
  },
  "language_info": {
   "codemirror_mode": {
    "name": "ipython",
    "version": 3
   },
   "file_extension": ".py",
   "mimetype": "text/x-python",
   "name": "python",
   "nbconvert_exporter": "python",
   "pygments_lexer": "ipython3",
   "version": "3.10.9"
  }
 },
 "nbformat": 4,
 "nbformat_minor": 5
}
